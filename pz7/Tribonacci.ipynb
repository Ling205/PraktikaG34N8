{
 "cells": [
  {
   "cell_type": "code",
   "execution_count": 2,
   "id": "e917cada",
   "metadata": {},
   "outputs": [
    {
     "name": "stdout",
     "output_type": "stream",
     "text": [
      "Задание 1. Числа Трибоначчи\n",
      "[2073693258389777176, 44, 1, 927, 19513, 7]\n"
     ]
    }
   ],
   "source": [
    "print ('Задание 1. Числа Трибоначчи')\n",
    "tribonacciNumbersCache = [0, 0, 1]\n",
    "for i in range (3, 100):\n",
    "    tribonacciNumbersCache.append(tribonacciNumbersCache[i - 1] + tribonacciNumbersCache[i - 2] + tribonacciNumbersCache[i - 3])\n",
    "\n",
    "tribonacciNumbers = [73, 10, 4, 15, 20, 7]\n",
    "tribonacciNumbersValue = []\n",
    "for number in tribonacciNumbers:\n",
    "    tribonacciNumbersValue.append(tribonacciNumbersCache[number - 1])\n",
    "\n",
    "print (tribonacciNumbersValue)"
   ]
  },
  {
   "cell_type": "code",
   "execution_count": 27,
   "id": "9c033788",
   "metadata": {},
   "outputs": [
    {
     "name": "stdout",
     "output_type": "stream",
     "text": [
      "Задание 2. Максимальный(по сумме элементов) подмассив\n",
      "[2, 2, -1, 3, -1, 2]\n"
     ]
    }
   ],
   "source": [
    "print ('Задание 2. Максимальный(по сумме элементов) подмассив');\n",
    "def maxSubArray (nums):\n",
    "    arrayOfSums = [nums[0]]\n",
    "    maxSum = nums[0]\n",
    "    maxPosition = 0\n",
    "\n",
    "    for i in range (1, len(nums)):\n",
    "        if arrayOfSums[i - 1] > 0:\n",
    "            arrayOfSums.append(arrayOfSums[i - 1] + nums[i])\n",
    "        else:\n",
    "            arrayOfSums.append(nums[i])\n",
    "\n",
    "        if arrayOfSums[i] > maxSum:\n",
    "            maxSum = arrayOfSums[i]\n",
    "            maxPosition = i\n",
    "    \n",
    "    if maxSum < 0:\n",
    "        return nums[maxPosition]\n",
    "        \n",
    "    endOfMaxSubarray = maxPosition\n",
    "    startOfMaxSubarray = endOfMaxSubarray\n",
    "\n",
    "    while startOfMaxSubarray >= 0 and arrayOfSums[startOfMaxSubarray] >= 0:\n",
    "        startOfMaxSubarray -= 1\n",
    "            \n",
    "    return nums[startOfMaxSubarray + 1: endOfMaxSubarray + 1]\n",
    "        \n",
    "sourceArray = [2, -5, 2, 2, -1, 3, -1, 2, -5, 4]\n",
    "print (maxSubArray(sourceArray))"
   ]
  },
  {
   "cell_type": "code",
   "execution_count": null,
   "id": "72e02a9f",
   "metadata": {},
   "outputs": [],
   "source": []
  }
 ],
 "metadata": {
  "kernelspec": {
   "display_name": "Python 3 (ipykernel)",
   "language": "python",
   "name": "python3"
  },
  "language_info": {
   "codemirror_mode": {
    "name": "ipython",
    "version": 3
   },
   "file_extension": ".py",
   "mimetype": "text/x-python",
   "name": "python",
   "nbconvert_exporter": "python",
   "pygments_lexer": "ipython3",
   "version": "3.11.3"
  }
 },
 "nbformat": 4,
 "nbformat_minor": 5
}
