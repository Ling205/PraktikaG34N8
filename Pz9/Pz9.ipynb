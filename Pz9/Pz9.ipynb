{
 "cells": [
  {
   "cell_type": "code",
   "execution_count": 1,
   "metadata": {},
   "outputs": [],
   "source": [
    "from fuzzywuzzy import fuzz\n",
    "from fuzzywuzzy import process\n",
    "from Levenshtein import distance as lev\n",
    "import time"
   ]
  },
  {
   "cell_type": "code",
   "execution_count": 2,
   "metadata": {},
   "outputs": [],
   "source": [
    "# Добавление функции Левенштейн\n",
    "def levenstein(str_1, str_2):\n",
    "    n, m = len(str_1), len(str_2)\n",
    "    if n > m:\n",
    "        str_1, str_2 = str_2, str_1\n",
    "        n, m = m, n\n",
    "\n",
    "    current_row = range(n + 1)\n",
    "    for i in range(1, m + 1):\n",
    "        previous_row, current_row = current_row, [i] + [0] * n\n",
    "        for j in range(1, n + 1):\n",
    "            add, delete, change = previous_row[j] + 1, current_row[j - 1] + 1, previous_row[j - 1]\n",
    "            if str_1[j - 1] != str_2[i - 1]:\n",
    "                change += 1\n",
    "            current_row[j] = min(add, delete, change)\n",
    "\n",
    "    return current_row[n]\n"
   ]
  },
  {
   "cell_type": "code",
   "execution_count": 3,
   "metadata": {},
   "outputs": [
    {
     "name": "stdout",
     "output_type": "stream",
     "text": [
      "100\n",
      "Время выполнения: 0.0 секунд\n"
     ]
    }
   ],
   "source": [
    "# 1. Самое обычное сравнение:\n",
    "start_time = time.time()\n",
    "\n",
    "a = fuzz.ratio('Привет мир', 'Привет мир')\n",
    "print(a)\n",
    "\n",
    "end_time = time.time()\n",
    "execution_time = end_time - start_time\n",
    "\n",
    "print(f\"Время выполнения: {execution_time} секунд\")"
   ]
  },
  {
   "cell_type": "code",
   "execution_count": 4,
   "metadata": {},
   "outputs": [
    {
     "name": "stdout",
     "output_type": "stream",
     "text": [
      "67\n"
     ]
    }
   ],
   "source": [
    "a = fuzz.ratio('Привет мир', 'Прит кив')\n",
    "print(a)"
   ]
  },
  {
   "cell_type": "code",
   "execution_count": 5,
   "metadata": {},
   "outputs": [
    {
     "name": "stdout",
     "output_type": "stream",
     "text": [
      "0\n",
      "Время выполнения: 0.0 секунд\n"
     ]
    }
   ],
   "source": [
    "start_time = time.time()\n",
    "a = levenstein('Привет мир', 'Привет мир')\n",
    "print(a)\n",
    "\n",
    "end_time = time.time()\n",
    "execution_time = end_time - start_time\n",
    "\n",
    "print(f\"Время выполнения: {execution_time} секунд\")"
   ]
  },
  {
   "cell_type": "code",
   "execution_count": 6,
   "metadata": {},
   "outputs": [
    {
     "name": "stdout",
     "output_type": "stream",
     "text": [
      "3\n"
     ]
    }
   ],
   "source": [
    "a = levenstein('Привет мир', 'Привер кит')\n",
    "print(a)"
   ]
  },
  {
   "cell_type": "code",
   "execution_count": 7,
   "metadata": {},
   "outputs": [
    {
     "name": "stdout",
     "output_type": "stream",
     "text": [
      "0\n",
      "Время выполнения: 0.0010008811950683594 секунд\n"
     ]
    }
   ],
   "source": [
    "start_time = time.time()\n",
    "\n",
    "\n",
    "a = lev('Привет мир', 'Привет мир')\n",
    "print(a)\n",
    "\n",
    "end_time = time.time()\n",
    "execution_time = end_time - start_time\n",
    "\n",
    "print(f\"Время выполнения: {execution_time} секунд\")\n"
   ]
  },
  {
   "cell_type": "code",
   "execution_count": 8,
   "metadata": {},
   "outputs": [
    {
     "name": "stdout",
     "output_type": "stream",
     "text": [
      "2\n"
     ]
    }
   ],
   "source": [
    "a = lev('Привет мир', 'Привт кир')\n",
    "print(a)"
   ]
  },
  {
   "cell_type": "code",
   "execution_count": 9,
   "metadata": {},
   "outputs": [
    {
     "name": "stdout",
     "output_type": "stream",
     "text": [
      "100\n",
      "Время выполнения: 0.0009927749633789062 секунд\n"
     ]
    }
   ],
   "source": [
    "# 2. Частичное сравнение\n",
    "start_time = time.time()\n",
    "\n",
    "a = fuzz.partial_ratio('Привет мир', 'Привет мир!')\n",
    "print(a)\n",
    "\n",
    "end_time = time.time()\n",
    "execution_time = end_time - start_time\n",
    "\n",
    "print(f\"Время выполнения: {execution_time} секунд\")"
   ]
  },
  {
   "cell_type": "code",
   "execution_count": 10,
   "metadata": {},
   "outputs": [
    {
     "name": "stdout",
     "output_type": "stream",
     "text": [
      "100\n"
     ]
    }
   ],
   "source": [
    "a = fuzz.partial_ratio('Привет мир', 'Люблю колбасу, Привет мир')\n",
    "print(a)"
   ]
  },
  {
   "cell_type": "code",
   "execution_count": 11,
   "metadata": {},
   "outputs": [
    {
     "name": "stdout",
     "output_type": "stream",
     "text": [
      "90\n"
     ]
    }
   ],
   "source": [
    "a = fuzz.partial_ratio('Привет мир', 'Люблю колбасу, привет мир')\n",
    "print(a) "
   ]
  },
  {
   "cell_type": "code",
   "execution_count": 13,
   "metadata": {},
   "outputs": [
    {
     "name": "stdout",
     "output_type": "stream",
     "text": [
      "1\n",
      "Время выполнения: 0.0 секунд\n"
     ]
    }
   ],
   "source": [
    "start_time = time.time()\n",
    "\n",
    "def levenstein(str_1, str_2):\n",
    "    n, m = len(str_1), len(str_2)\n",
    "    if n > m:\n",
    "        str_1, str_2 = str_2, str_1\n",
    "        n, m = m, n\n",
    "\n",
    "    current_row = range(n + 1)\n",
    "    for i in range(1, m + 1):\n",
    "        previous_row, current_row = current_row, [i] + [0] * n\n",
    "        for j in range(1, n + 1):\n",
    "            add, delete, change = previous_row[j] + 1, current_row[j - 1] + 1, previous_row[j - 1]\n",
    "            if str_1[j - 1] != str_2[i - 1]:\n",
    "                change += 1\n",
    "            current_row[j] = min(add, delete, change)\n",
    "\n",
    "    similarity = 0 if n == m and current_row[n] == 0 else current_row[n]\n",
    "\n",
    "    return similarity\n",
    "\n",
    "result = levenstein('Привет мир', 'Привет мир!')\n",
    "print(result)\n",
    "\n",
    "end_time = time.time()\n",
    "execution_time = end_time - start_time\n",
    "\n",
    "print(f\"Время выполнения: {execution_time} секунд\")"
   ]
  },
  {
   "cell_type": "code",
   "execution_count": 14,
   "metadata": {},
   "outputs": [
    {
     "name": "stdout",
     "output_type": "stream",
     "text": [
      "15\n"
     ]
    }
   ],
   "source": [
    "def levenstein(str_1, str_2):\n",
    "    n, m = len(str_1), len(str_2)\n",
    "    if n > m:\n",
    "        str_1, str_2 = str_2, str_1\n",
    "        n, m = m, n\n",
    "\n",
    "    current_row = range(n + 1)\n",
    "    for i in range(1, m + 1):\n",
    "        previous_row, current_row = current_row, [i] + [0] * n\n",
    "        for j in range(1, n + 1):\n",
    "            add, delete, change = previous_row[j] + 1, current_row[j - 1] + 1, previous_row[j - 1]\n",
    "            if str_1[j - 1] != str_2[i - 1]:\n",
    "                change += 1\n",
    "            current_row[j] = min(add, delete, change)\n",
    "\n",
    "    similarity = 0 if n == m and current_row[n] == 0 else current_row[n]\n",
    "\n",
    "    return similarity\n",
    "\n",
    "result = levenstein('Привет мир', 'Люблю колбасу, Привет мир')\n",
    "print(result)"
   ]
  },
  {
   "cell_type": "code",
   "execution_count": 15,
   "metadata": {},
   "outputs": [
    {
     "name": "stdout",
     "output_type": "stream",
     "text": [
      "16\n"
     ]
    }
   ],
   "source": [
    "def levenstein(str_1, str_2):\n",
    "    n, m = len(str_1), len(str_2)\n",
    "    if n > m:\n",
    "        str_1, str_2 = str_2, str_1\n",
    "        n, m = m, n\n",
    "\n",
    "    current_row = range(n + 1)\n",
    "    for i in range(1, m + 1):\n",
    "        previous_row, current_row = current_row, [i] + [0] * n\n",
    "        for j in range(1, n + 1):\n",
    "            add, delete, change = previous_row[j] + 1, current_row[j - 1] + 1, previous_row[j - 1]\n",
    "            if str_1[j - 1] != str_2[i - 1]:\n",
    "                change += 1\n",
    "            current_row[j] = min(add, delete, change)\n",
    "\n",
    "    similarity = 0 if n == m and current_row[n] == 0 else current_row[n]\n",
    "\n",
    "    return similarity\n",
    "\n",
    "result = levenstein('Привет мир', 'Люблю колбасу, привет мир')\n",
    "print(result)"
   ]
  },
  {
   "cell_type": "code",
   "execution_count": 16,
   "metadata": {},
   "outputs": [
    {
     "name": "stdout",
     "output_type": "stream",
     "text": [
      "1\n",
      "Время выполнения: 0.0 секунд\n"
     ]
    }
   ],
   "source": [
    "start_time = time.time()\n",
    "\n",
    "a = lev('Привет мир', 'Привет мир!')\n",
    "print(a)\n",
    "\n",
    "end_time = time.time()\n",
    "execution_time = end_time - start_time\n",
    "\n",
    "print(f\"Время выполнения: {execution_time} секунд\")"
   ]
  },
  {
   "cell_type": "code",
   "execution_count": 17,
   "metadata": {},
   "outputs": [
    {
     "name": "stdout",
     "output_type": "stream",
     "text": [
      "100\n",
      "Время выполнения: 0.0 секунд\n"
     ]
    }
   ],
   "source": [
    "# 3. Сравнение по токену\n",
    "# 1) Token Sort Ratio\n",
    "\n",
    "start_time = time.time()\n",
    "\n",
    "a = fuzz.token_sort_ratio('Привет наш мир', 'мир наш Привет')\n",
    "print(a)\n",
    "\n",
    "end_time = time.time()\n",
    "execution_time = end_time - start_time\n",
    "\n",
    "print(f\"Время выполнения: {execution_time} секунд\")"
   ]
  },
  {
   "cell_type": "code",
   "execution_count": 19,
   "metadata": {},
   "outputs": [
    {
     "name": "stdout",
     "output_type": "stream",
     "text": [
      "78\n"
     ]
    }
   ],
   "source": [
    "a = fuzz.token_sort_ratio('Привет наш мир', 'мир наш любимый Привет')\n",
    "print(a)"
   ]
  },
  {
   "cell_type": "code",
   "execution_count": 20,
   "metadata": {},
   "outputs": [
    {
     "name": "stdout",
     "output_type": "stream",
     "text": [
      "100\n"
     ]
    }
   ],
   "source": [
    "a = fuzz.token_sort_ratio('1 2 Привет наш мир', '1 мир наш 2 ПриВЕт')\n",
    "print(a)"
   ]
  },
  {
   "cell_type": "code",
   "execution_count": 21,
   "metadata": {},
   "outputs": [
    {
     "name": "stdout",
     "output_type": "stream",
     "text": [
      "0\n",
      "Время выполнения: 0.0 секунд\n"
     ]
    }
   ],
   "source": [
    "start_time = time.time()\n",
    "\n",
    "def token_sort_ratio_l(str_1, str_2):\n",
    "    tokens_1 = sorted(str_1.split())\n",
    "    tokens_2 = sorted(str_2.split())\n",
    "\n",
    "    ratio = levenstein(' '.join(tokens_1), ' '.join(tokens_2))\n",
    "    return ratio\n",
    "a = token_sort_ratio_l('Привет наш мир', 'мир наш Привет')\n",
    "print(a)\n",
    "\n",
    "end_time = time.time()\n",
    "execution_time = end_time - start_time\n",
    "\n",
    "print(f\"Время выполнения: {execution_time} секунд\")"
   ]
  },
  {
   "cell_type": "code",
   "execution_count": 22,
   "metadata": {},
   "outputs": [
    {
     "name": "stdout",
     "output_type": "stream",
     "text": [
      "8\n"
     ]
    }
   ],
   "source": [
    "a = token_sort_ratio_l('Привет наш мир', 'мир наш любимый Привет')\n",
    "print(a)"
   ]
  },
  {
   "cell_type": "code",
   "execution_count": 23,
   "metadata": {},
   "outputs": [
    {
     "name": "stdout",
     "output_type": "stream",
     "text": [
      "2\n"
     ]
    }
   ],
   "source": [
    "a = token_sort_ratio_l('1 2 Привет наш мир', '1 мир наш 2 ПриВЕт')\n",
    "print(a)"
   ]
  },
  {
   "cell_type": "code",
   "execution_count": 24,
   "metadata": {},
   "outputs": [
    {
     "name": "stdout",
     "output_type": "stream",
     "text": [
      "100\n",
      "Время выполнения: 0.0 секунд\n"
     ]
    }
   ],
   "source": [
    "# 2) Token Set Ratio\n",
    "\n",
    "start_time = time.time()\n",
    "a = fuzz.token_set_ratio('Привет наш мир', 'мир мир наш наш наш ПриВЕт')\n",
    "print(a)\n",
    "\n",
    "end_time = time.time()\n",
    "execution_time = end_time - start_time\n",
    "\n",
    "print(f\"Время выполнения: {execution_time} секунд\")"
   ]
  },
  {
   "cell_type": "code",
   "execution_count": 26,
   "metadata": {},
   "outputs": [
    {
     "name": "stdout",
     "output_type": "stream",
     "text": [
      "2\n",
      "Время выполнения: 0.0 секунд\n"
     ]
    }
   ],
   "source": [
    "start_time = time.time()\n",
    "def token_set_ratio(str_1, str_2):\n",
    "    tokens_1 = set(str_1.split())\n",
    "    tokens_2 = set(str_2.split())\n",
    "\n",
    "    ratio = levenstein(' '.join(tokens_1), ' '.join(tokens_2))\n",
    "    return ratio\n",
    "\n",
    "a = token_set_ratio('Привет наш мир', 'мир мир наш наш наш ПриВЕт')\n",
    "print(a)\n",
    "\n",
    "end_time = time.time()\n",
    "execution_time = end_time - start_time\n",
    "\n",
    "print(f\"Время выполнения: {execution_time} секунд\")"
   ]
  },
  {
   "cell_type": "code",
   "execution_count": 27,
   "metadata": {},
   "outputs": [
    {
     "name": "stdout",
     "output_type": "stream",
     "text": [
      "100\n",
      "Время выполнения: 0.0010008811950683594 секунд\n"
     ]
    }
   ],
   "source": [
    "# 4. Продвинутое обычное сравнение\n",
    "start_time = time.time()\n",
    "a = fuzz.WRatio('Привет наш мир', '!ПриВЕт наш мир!')\n",
    "print(a)\n",
    "end_time = time.time()\n",
    "execution_time = end_time - start_time\n",
    "\n",
    "print(f\"Время выполнения: {execution_time} секунд\")"
   ]
  },
  {
   "cell_type": "code",
   "execution_count": 28,
   "metadata": {},
   "outputs": [
    {
     "name": "stdout",
     "output_type": "stream",
     "text": [
      "97\n"
     ]
    }
   ],
   "source": [
    "a = fuzz.WRatio('Привет наш мир', '!ПриВЕт, наш мир!')\n",
    "print(a)"
   ]
  },
  {
   "cell_type": "code",
   "execution_count": 29,
   "metadata": {},
   "outputs": [
    {
     "name": "stdout",
     "output_type": "stream",
     "text": [
      "2\n",
      "Время выполнения: 0.0 секунд\n"
     ]
    }
   ],
   "source": [
    "start_time = time.time()\n",
    "def WRatio(str_1, str_2):\n",
    "    str_1 = str_1.lower()\n",
    "    str_2 = str_2.lower()\n",
    "\n",
    "    ratio = levenstein(str_1, str_2)\n",
    "    return ratio\n",
    "\n",
    "a = WRatio('Привет наш мир', '!ПриВЕт наш мир!')\n",
    "print(a)\n",
    "end_time = time.time()\n",
    "execution_time = end_time - start_time\n",
    "\n",
    "print(f\"Время выполнения: {execution_time} секунд\")"
   ]
  },
  {
   "cell_type": "code",
   "execution_count": 30,
   "metadata": {},
   "outputs": [
    {
     "name": "stdout",
     "output_type": "stream",
     "text": [
      "3\n"
     ]
    }
   ],
   "source": [
    "def WRatio(str_1, str_2):\n",
    "    str_1 = str_1.lower()\n",
    "    str_2 = str_2.lower()\n",
    "\n",
    "    ratio = levenstein(str_1, str_2)\n",
    "    return ratio\n",
    "\n",
    "a = WRatio('Привет наш мир', '!ПривЕт, наш мИр!')\n",
    "print(a)"
   ]
  },
  {
   "cell_type": "code",
   "execution_count": 31,
   "metadata": {},
   "outputs": [
    {
     "name": "stdout",
     "output_type": "stream",
     "text": [
      "[('Саратов', 100), ('Самара', 62)]\n",
      "Время выполнения: 0.0 секунд\n"
     ]
    }
   ],
   "source": [
    "# 5. Работа со списком\n",
    "start_time = time.time()\n",
    "city = [\"Москва\", \"Санкт-Петербург\", \"Саратов\", \"Краснодар\", \"Воронеж\", \"Омск\", \"Екатеринбург\", \"Орск\", \"Красногорск\", \"Красноярск\", \"Самара\"]\n",
    "a = process.extract(\"Саратов\", city, limit=2)\n",
    "print(a)\n",
    "end_time = time.time()\n",
    "execution_time = end_time - start_time\n",
    "\n",
    "print(f\"Время выполнения: {execution_time} секунд\")\n"
   ]
  },
  {
   "cell_type": "code",
   "execution_count": 32,
   "metadata": {},
   "outputs": [
    {
     "name": "stdout",
     "output_type": "stream",
     "text": [
      "('Красногорск', 90)\n"
     ]
    }
   ],
   "source": [
    "city = [\"Москва\", \"Санкт-Петербург\", \"Саратов\", \"Краснодар\", \"Воронеж\", \"Омск\", \"Екатеринбург\", \"Орск\", \"Красногорск\", \"Красноярск\", \"Самара\"]\n",
    "a = process.extractOne(\"Краногрск\", city)\n",
    "print(a)"
   ]
  },
  {
   "cell_type": "markdown",
   "metadata": {},
   "source": [
    "Решить задачу со списком с помощью нашей функции не возможно. Для написанных нами функций, время их работы вычем, чем у исходной."
   ]
  }
 ],
 "metadata": {
  "kernelspec": {
   "display_name": "Python 3 (ipykernel)",
   "language": "python",
   "name": "python3"
  },
  "language_info": {
   "codemirror_mode": {
    "name": "ipython",
    "version": 3
   },
   "file_extension": ".py",
   "mimetype": "text/x-python",
   "name": "python",
   "nbconvert_exporter": "python",
   "pygments_lexer": "ipython3",
   "version": "3.11.3"
  }
 },
 "nbformat": 4,
 "nbformat_minor": 2
}
